{
 "cells": [
  {
   "cell_type": "code",
   "execution_count": 66,
   "metadata": {},
   "outputs": [
    {
     "name": "stdout",
     "output_type": "stream",
     "text": [
      "b'<answers>\\n     <element>\\n      <id>1095</id>\\n      <submissionId>132</submissionId>\\n      <questionId>38</questionId>\\n      <text>Rotes Licht leuchtet, Beamer startet nicht.</text>\\n     </element>\\n     <element>\\n      <id>1096</id>\\n      <submissionId>132</submissionId>\\n      <questionId>39</questionId>\\n      <text>Beamer</text>\\n     </element>\\n     <element>\\n      <id>1097</id>\\n      <submissionId>132</submissionId>\\n      <questionId>40</questionId>\\n      <text>R001</text>\\n     </element>\\n    </answers>\\n    \\n'\n"
     ]
    }
   ],
   "source": [
    "from deck import *\n",
    "from forms import *\n",
    "from lxml import etree\n",
    "\n",
    "NEXTCLOUD_URL_DECK = credentials.url2\n",
    "NEXTCLOUD_URL_FORMS = credentials.url\n",
    "NEXTCLOUD_USERNAME = credentials.username\n",
    "NEXTCLOUD_PASSWORD = credentials.password\n",
    "NEXTCLOUD_FORM = credentials.form\n",
    "NEXTCLOUD_APP_DECK = 'apps/deck'\n",
    "NEXTCLOUD_APP_FORMS = 'apps/forms'\n",
    "\n",
    "# print(getAListOfBoards({'details':'False'}).json())\n",
    "# print(listOwnedForms().text)\n",
    "submissions = getFormSubmissions('WgTCRZwyi6WfTEa2')\n",
    "\n",
    "# print(submissions.text)\n",
    "root = etree.fromstring(submissions.text)\n",
    "print(etree.tostring(root[1][0][0][4], pretty_print=True))\n",
    "# for child in root[1][0]:\n",
    "#     for subchild in child:\n",
    "#         print(subchild.tag, subchild.text)"
   ]
  }
 ],
 "metadata": {
  "interpreter": {
   "hash": "916dbcbb3f70747c44a77c7bcd40155683ae19c65e1c03b4aa3499c5328201f1"
  },
  "kernelspec": {
   "display_name": "Python 3.8.10 64-bit",
   "language": "python",
   "name": "python3"
  },
  "language_info": {
   "codemirror_mode": {
    "name": "ipython",
    "version": 3
   },
   "file_extension": ".py",
   "mimetype": "text/x-python",
   "name": "python",
   "nbconvert_exporter": "python",
   "pygments_lexer": "ipython3",
   "version": "3.8.10"
  },
  "orig_nbformat": 4
 },
 "nbformat": 4,
 "nbformat_minor": 2
}
